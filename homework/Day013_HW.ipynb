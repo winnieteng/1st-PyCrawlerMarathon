{
 "cells": [
  {
   "cell_type": "markdown",
   "metadata": {},
   "source": [
    "# PTT 網路爬蟲實作練習\n",
    "\n",
    "\n",
    "* 能夠利用 Request + BeatifulSour 撰寫爬蟲，並存放到合適的資料結構\n"
   ]
  },
  {
   "cell_type": "markdown",
   "metadata": {},
   "source": [
    "## 作業目標\n",
    "\n",
    "根據範例 ，完成以下問題：\n",
    "\n",
    "* ① 印出最新文章的「作者」「標題」「時間」\n",
    "* ② 印出第一頁所有文章的「作者」「標題」「時間」\n"
   ]
  },
  {
   "cell_type": "code",
   "execution_count": 1,
   "metadata": {},
   "outputs": [],
   "source": [
    "import requests\n",
    "from bs4 import BeautifulSoup"
   ]
  },
  {
   "cell_type": "markdown",
   "metadata": {},
   "source": [
    "### ① 印出最新文章的「作者」「標題」「時間」"
   ]
  },
  {
   "cell_type": "code",
   "execution_count": 2,
   "metadata": {
    "scrolled": false
   },
   "outputs": [
    {
     "name": "stdout",
     "output_type": "stream",
     "text": [
      " 1/06\t作者：jonathan8809\n",
      "[討論] 拓荒雙槍之後再一槍\n",
      "\n",
      " 1/06\t作者：pneumo\n",
      "[外絮] 巫師八村壘會在兩星期內再次評估\n",
      "\n",
      " 1/06\t作者：EDFR\n",
      "[新聞] 誇大動作博取裁判哨音？唐西奇：沒有想騙\n",
      "\n",
      " 1/06\t作者：tmacor1\n",
      "[新聞] NBA》格林好累！勇士教頭考慮輪休\n",
      "\n",
      " 1/06\t作者：s27052705\n",
      "[花邊] 柳暗花明？ Exum砍下28分3籃板2助攻，得\n",
      "\n",
      " 1/06\t作者：thnlkj0665\n",
      "[Live] 活塞 @ 湖人\n",
      "\n",
      " 1/06\t作者：ericgary\n",
      "[情報] Woj:快艇在設法不讓湖人拿到D.Collison\n",
      "\n",
      " 1/06\t作者：manuginobii\n",
      "[新聞] 3人得分破30分 快艇50年隊史第一次\n",
      "\n",
      " 1/06\t作者：LABOYS\n",
      "Re: [討論] 湖人是不會養新秀還是被收割成果？\n",
      "\n",
      " 1/06\t作者：whoAU\n",
      "[新聞] 富豪有個大膽想法 詹皇小威來生體壇超人\n",
      "\n",
      " 1/06\t作者：guardyo\n",
      "[BOX ] Knicks 132:135 Clippers\n",
      "\n",
      " 1/06\t作者：guardyo\n",
      "[BOX ] Blazers 111:122 Heat\n",
      "\n",
      " 1/06\t作者：guardyo\n",
      "[BOX ] Timberwolves 118:103 Cavaliers\n",
      "\n",
      " 1/06\t作者：guardyo\n",
      "[BOX ] Grizzlies 121:114 Suns\n",
      "\n",
      " 5/24\t作者：Vedan\n",
      "[公告] 板規v6.8\n",
      "\n",
      " 6/24\t作者：Vedan\n",
      "[公告] 樂透取消及未來不再開啟樂透\n",
      "\n",
      "10/25\t作者：qazwsx879345\n",
      "[公告] 版主上任相關事項 \n",
      "\n",
      " 1/03\t作者：Acetoxy\n",
      "[情報] SEASON Schedule 賽程 January 19–20\n",
      "\n"
     ]
    }
   ],
   "source": [
    "url = 'https://www.ptt.cc/bbs/NBA/index.html'\n",
    "r = requests.get(url)\n",
    "soup = BeautifulSoup(r.text)\n",
    "\n",
    "# soup.find_all('div', class_='r-ent')\n",
    "for i in soup.find_all('div', class_='r-ent'):\n",
    "    try:\n",
    "        print('{}\\t作者：{}{}'.format(i.find(class_='date').text, i.find(class_='author').text, i.find(class_='title').text))\n",
    "    except:\n",
    "        pass"
   ]
  },
  {
   "cell_type": "markdown",
   "metadata": {},
   "source": [
    "### ② 印出第一頁所有文章的「作者」「標題」「時間」"
   ]
  },
  {
   "cell_type": "code",
   "execution_count": 3,
   "metadata": {},
   "outputs": [
    {
     "name": "stdout",
     "output_type": "stream",
     "text": [
      " 1/05\t作者：seabox\n",
      "[情報] CP3明日組織全隊現場觀戰NFL西雅圖海鷹對\n",
      "\n",
      " 1/05\t作者：EDFR\n",
      "[新聞] 破隊史大三元紀錄仍輸球 唐西奇：是我搞砸了\n",
      "\n",
      " 1/05\t作者：thnlkj0665\n",
      "[花邊] 76人吞2年來最長連敗  安比德：糟透了\n",
      "\n",
      " 1/05\t作者：YOYOISGOOD\n",
      "[討論] 馬刺和拓荒者是開季後最讓人失望的嗎\n",
      "\n",
      " 1/05\t作者：pneumo\n",
      "[討論] Channing Frye幾則有關騎士跟Love推特文\n",
      "\n",
      " 1/05\t作者：pp5434\n",
      "[討論] 黃蜂是不是打得還可以?\n",
      "\n",
      " 1/05\t作者：-\n",
      "\t\t\t\n",
      "\t\t\t\t(本文已被刪除) [greedyba]\n",
      "\t\t\t\n",
      "\t\t\t\n",
      " 1/05\t作者：Gotham\n",
      "[新聞] 雷霆氣勢如虹輕取騎士 近10戰奪9勝\n",
      "\n",
      " 1/06\t作者：andy82116\n",
      "Re: [討論] Channing Frye幾則有關騎士跟Love推特文\n",
      "\n",
      " 1/06\t作者：s27052705\n",
      "[情報] 由於是背靠背第二場，Love預計會缺席對\n",
      "\n",
      " 1/06\t作者：-\n",
      "\t\t\t\n",
      "\t\t\t\t(本文已被刪除) [asdf1256]\n",
      "\t\t\t\n",
      "\t\t\t\n",
      " 1/06\t作者：justgetup\n",
      "[外絮]是時候讓雷霆擁抱勝利了!\n",
      "\n",
      " 1/06\t作者：Rambo\n",
      "[Live] 尼克 @ 快艇\n",
      "\n",
      " 1/06\t作者：Rambo\n",
      "[Live] 拓荒者 @ 熱火\n",
      "\n",
      " 1/06\t作者：kakala99\n",
      "[情報] Amick：湖人願意聆聽其他球隊對Kuzma報價\n",
      "\n",
      " 1/06\t作者：pneumo\n",
      "[情報] Bill Simmons:Kevin Love打出\"甜瓜卡\"\n",
      "\n",
      " 1/06\t作者：thnlkj0665\n",
      "[Live] 灰狼 @ 騎士\n",
      "\n",
      " 1/06\t作者：g987669\n",
      "[討論] 湖人是不會養新秀還是被收割成果？\n",
      "\n",
      " 1/06\t作者：thnlkj0665\n",
      "[Live] 灰熊 @ 太陽\n",
      "\n",
      " 1/06\t作者：azlbf\n",
      "Re: [外絮]是時候讓雷霆擁抱勝利了!\n",
      "\n"
     ]
    }
   ],
   "source": [
    "url = 'https://www.ptt.cc/bbs/NBA/index6502.html'\n",
    "r = requests.get(url)\n",
    "soup = BeautifulSoup(r.text)\n",
    "\n",
    "for i in soup.find_all('div', class_='r-ent'):\n",
    "    try:\n",
    "        print('{}\\t作者：{}{}'.format(i.find(class_='date').text, i.find(class_='author').text, i.find(class_='title').text))\n",
    "    except:\n",
    "        pass"
   ]
  },
  {
   "cell_type": "markdown",
   "metadata": {},
   "source": [
    "### ③ 試著爬爬看其他版的文章"
   ]
  },
  {
   "cell_type": "code",
   "execution_count": 4,
   "metadata": {
    "scrolled": false
   },
   "outputs": [
    {
     "name": "stdout",
     "output_type": "stream",
     "text": [
      " 1/06\t作者：sleepybaby\n",
      "[新聞] 單膝下跪致敬 馮世寬哀悼8位罹難軍人\n",
      "\n",
      " 1/06\t作者：rathunter\n",
      "[新聞] 打靶不甩軍令！副連長怒：槍交給我　二兵\n",
      "\n",
      " 1/06\t作者：allure1\n",
      "Re: [新聞] 韓國瑜一家9日將在凱道合體?李佳芬打臉:沒有\n",
      "\n",
      " 1/06\t作者：s60912001\n",
      "[問卦] 購物台為什麼一直重播\n",
      "\n",
      " 1/06\t作者：dean1990\n",
      "[問卦] 有沒有斯瓦爾巴島(Svalbard)的八卦\n",
      "\n",
      " 1/06\t作者：deepdish\n",
      "[問卦] 有沒有德之島的八卦？\n",
      "\n",
      " 1/06\t作者：became\n",
      "[問卦] 我國與左國關係相當於現實的什麼呢？\n",
      "\n",
      " 1/06\t作者：xianyao\n",
      "[公告] 組務判決解除水桶\n",
      "\n",
      " 8/21\t作者：arsonlolita\n",
      "[公告] 八卦板板規(2019.08.21)\n",
      "\n",
      "12/30\t作者：arsonlolita\n",
      "[協尋] 行車記錄器 台北市大同區承德路二段\n",
      "\n",
      "12/31\t作者：XXXXGAY\n",
      "[公告] 109年1月1號開始請勿討論選舉民調(宣導)\n",
      "\n",
      " 1/01\t作者：Bignana\n",
      "[公告] 赤鴻飛羽，一月份置底閒聊文\n",
      "\n",
      " 1/06\t作者：arsonlolita\n",
      "[協尋] 車禍過世 1/2 甲提南路立新一街 \n",
      "\n"
     ]
    }
   ],
   "source": [
    "url = 'https://www.ptt.cc/bbs/Gossiping/index.html'\n",
    "r = requests.get(url, cookies={'over18': '1'})\n",
    "soup = BeautifulSoup(r.text)\n",
    "\n",
    "for i in soup.find_all('div', class_='r-ent'):\n",
    "    try:\n",
    "        print('{}\\t作者：{}{}'.format(i.find(class_='date').text, i.find(class_='author').text, i.find(class_='title').text))\n",
    "    except:\n",
    "        pass"
   ]
  },
  {
   "cell_type": "code",
   "execution_count": null,
   "metadata": {},
   "outputs": [],
   "source": []
  }
 ],
 "metadata": {
  "kernelspec": {
   "display_name": "Python 3",
   "language": "python",
   "name": "python3"
  },
  "language_info": {
   "codemirror_mode": {
    "name": "ipython",
    "version": 3
   },
   "file_extension": ".py",
   "mimetype": "text/x-python",
   "name": "python",
   "nbconvert_exporter": "python",
   "pygments_lexer": "ipython3",
   "version": "3.7.3"
  },
  "toc": {
   "base_numbering": 1,
   "nav_menu": {},
   "number_sections": true,
   "sideBar": true,
   "skip_h1_title": false,
   "title_cell": "Table of Contents",
   "title_sidebar": "Contents",
   "toc_cell": false,
   "toc_position": {},
   "toc_section_display": true,
   "toc_window_display": false
  }
 },
 "nbformat": 4,
 "nbformat_minor": 2
}
