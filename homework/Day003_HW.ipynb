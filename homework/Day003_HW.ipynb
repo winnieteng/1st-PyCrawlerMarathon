{
 "cells": [
  {
   "cell_type": "markdown",
   "metadata": {},
   "source": [
    "# Python 下載XML檔案與解析\n",
    "\n",
    "\n",
    "* 了解 xml 檔案格式與內容\n",
    "* 能夠利用套件存取 xml 格式的檔案\n"
   ]
  },
  {
   "cell_type": "markdown",
   "metadata": {},
   "source": [
    "## 作業目標\n",
    "\n",
    "* 比較一下範例檔案中的「File I/O」與「xmltodict」讀出來的內容有什麼差異\n",
    "\n",
    "* 根據範例檔案的結果：\n",
    "    1. 請問高雄市有多少地區有溫度資料？\n",
    "    2. 請取出每一個地區所記錄的第一個時間點跟溫度\n",
    "    3. 請取出第一個地區所記錄的每一個時間點跟溫度"
   ]
  },
  {
   "cell_type": "markdown",
   "metadata": {},
   "source": [
    "### 比較一下範例檔案中的「File I/O」與「xmltodict」讀出來的內容有什麼差異\n"
   ]
  },
  {
   "cell_type": "code",
   "execution_count": 1,
   "metadata": {
    "scrolled": true
   },
   "outputs": [],
   "source": [
    "import xml.dom.minidom\n",
    "import xml.etree.ElementTree as ET\n",
    "import xmltodict"
   ]
  },
  {
   "cell_type": "code",
   "execution_count": 2,
   "metadata": {},
   "outputs": [
    {
     "name": "stdout",
     "output_type": "stream",
     "text": [
      "<?xml version=\"1.0\" encoding=\"UTF-8\"?>\n",
      "<CUPOY>\n",
      "    <Title>爬蟲馬拉松</Title>\n",
      "    <Author>Wei</Author>\n",
      "    <Chapters>\n",
      "        <Chapter name=\"01\">資料來源與存取</Chapter>\n",
      "        <Chapter name=\"02\">靜態網頁爬蟲</Chapter>\n",
      "        <Chapter name=\"03\">動態網頁爬蟲</Chapter>\n",
      "    </Chapters>\n",
      "</CUPOY>\n"
     ]
    }
   ],
   "source": [
    "with open('./Data/example/sample.xml', 'r') as rf:\n",
    "    f_IO = rf.read()\n",
    "print(f_IO)"
   ]
  },
  {
   "cell_type": "code",
   "execution_count": 3,
   "metadata": {
    "scrolled": true
   },
   "outputs": [
    {
     "name": "stdout",
     "output_type": "stream",
     "text": [
      "爬蟲馬拉松\n",
      "01 資料來源與存取\n",
      "02 靜態網頁爬蟲\n",
      "03 動態網頁爬蟲\n"
     ]
    }
   ],
   "source": [
    "# xml.dom\n",
    "xml_dom = xml.dom.minidom.parse('./Data/example/sample.xml')  # 存取檔案\n",
    "print(xml_dom.getElementsByTagName('Title')[0].firstChild.nodeValue)\n",
    "chapters = xml_dom.getElementsByTagName('Chapter')\n",
    "\n",
    "for chapter in chapters:\n",
    "    print(chapter.getAttribute('name'), chapter.firstChild.nodeValue)"
   ]
  },
  {
   "cell_type": "markdown",
   "metadata": {},
   "source": [
    "[xml.etree參考](https://www.itread01.com/content/1545426921.html)"
   ]
  },
  {
   "cell_type": "code",
   "execution_count": 4,
   "metadata": {
    "scrolled": true
   },
   "outputs": [
    {
     "name": "stdout",
     "output_type": "stream",
     "text": [
      "爬蟲馬拉松\n",
      "01 資料來源與存取\n",
      "02 靜態網頁爬蟲\n",
      "03 動態網頁爬蟲\n"
     ]
    }
   ],
   "source": [
    "# xml.etree\n",
    "xml_etree = ET.parse('./Data/example/sample.xml')  # 一次性將整個XML檔案載入到記憶體\n",
    "root = xml_etree.getroot()  # 獲取根節\n",
    "\n",
    "print(root[0].text)  # 查看內文\n",
    "\n",
    "chapters = root[2]\n",
    "for chapter in chapters:\n",
    "    print(chapter.attrib['name'], chapter.text)"
   ]
  },
  {
   "cell_type": "code",
   "execution_count": 5,
   "metadata": {},
   "outputs": [
    {
     "name": "stdout",
     "output_type": "stream",
     "text": [
      "爬蟲馬拉松\n",
      "01 資料來源與存取\n",
      "02 靜態網頁爬蟲\n",
      "03 動態網頁爬蟲\n"
     ]
    }
   ],
   "source": [
    "# xmltodict : 可以將XML轉成 Dict 或 JSON格式\n",
    "with open('./Data/example/sample.xml', 'r') as rf:\n",
    "    xml_xmltodict = xmltodict.parse(rf.read())  # 返回一個OrderedDict類型的對象\n",
    "    \n",
    "print(xml_xmltodict['CUPOY']['Title'])\n",
    "chapters = xml_xmltodict['CUPOY']['Chapters']['Chapter']\n",
    "for chapter in chapters:\n",
    "    print(chapter['@name'], chapter['#text'])"
   ]
  },
  {
   "cell_type": "markdown",
   "metadata": {},
   "source": [
    "### 根據範例檔案的結果：\n",
    "\n",
    "1. 請問高雄市有多少地區有溫度資料？\n",
    "2. 請取出每一個地區所記錄的第一個時間點跟溫度\n",
    "3. 請取出第一個地區所記錄的每一個時間點跟溫度"
   ]
  },
  {
   "cell_type": "code",
   "execution_count": 6,
   "metadata": {
    "scrolled": false
   },
   "outputs": [
    {
     "name": "stdout",
     "output_type": "stream",
     "text": [
      "有38區有溫度資料\n"
     ]
    }
   ],
   "source": [
    "# 1. 請問高雄市有多少地區有溫度資料？\n",
    "\n",
    "with open('./Data/example/64_72hr_CH.xml', 'r') as rf:\n",
    "    doc = xmltodict.parse(rf.read())\n",
    "\n",
    "locnames = doc['cwbopendata']['dataset']['locations']['location']\n",
    "print('有{}區有溫度資料'.format(len(locnames)))"
   ]
  },
  {
   "cell_type": "code",
   "execution_count": 7,
   "metadata": {
    "scrolled": false
   },
   "outputs": [
    {
     "name": "stdout",
     "output_type": "stream",
     "text": [
      "鹽埕區 :2019-06-28T12:00:00+08:00 33\n",
      "鼓山區 :2019-06-28T12:00:00+08:00 33\n",
      "左營區 :2019-06-28T12:00:00+08:00 33\n",
      "楠梓區 :2019-06-28T12:00:00+08:00 34\n",
      "三民區 :2019-06-28T12:00:00+08:00 32\n",
      "新興區 :2019-06-28T12:00:00+08:00 33\n",
      "前金區 :2019-06-28T12:00:00+08:00 33\n",
      "苓雅區 :2019-06-28T12:00:00+08:00 33\n",
      "前鎮區 :2019-06-28T12:00:00+08:00 33\n",
      "旗津區 :2019-06-28T12:00:00+08:00 32\n",
      "小港區 :2019-06-28T12:00:00+08:00 33\n",
      "鳳山區 :2019-06-28T12:00:00+08:00 34\n",
      "林園區 :2019-06-28T12:00:00+08:00 33\n",
      "大寮區 :2019-06-28T12:00:00+08:00 34\n",
      "大樹區 :2019-06-28T12:00:00+08:00 34\n",
      "大社區 :2019-06-28T12:00:00+08:00 34\n",
      "仁武區 :2019-06-28T12:00:00+08:00 33\n",
      "鳥松區 :2019-06-28T12:00:00+08:00 34\n",
      "岡山區 :2019-06-28T12:00:00+08:00 34\n",
      "橋頭區 :2019-06-28T12:00:00+08:00 35\n",
      "燕巢區 :2019-06-28T12:00:00+08:00 34\n",
      "田寮區 :2019-06-28T12:00:00+08:00 34\n",
      "阿蓮區 :2019-06-28T12:00:00+08:00 34\n",
      "路竹區 :2019-06-28T12:00:00+08:00 33\n",
      "湖內區 :2019-06-28T12:00:00+08:00 33\n",
      "茄萣區 :2019-06-28T12:00:00+08:00 33\n",
      "永安區 :2019-06-28T12:00:00+08:00 32\n",
      "彌陀區 :2019-06-28T12:00:00+08:00 32\n",
      "梓官區 :2019-06-28T12:00:00+08:00 32\n",
      "旗山區 :2019-06-28T12:00:00+08:00 34\n",
      "美濃區 :2019-06-28T12:00:00+08:00 34\n",
      "六龜區 :2019-06-28T12:00:00+08:00 34\n",
      "甲仙區 :2019-06-28T12:00:00+08:00 33\n",
      "杉林區 :2019-06-28T12:00:00+08:00 36\n",
      "內門區 :2019-06-28T12:00:00+08:00 34\n",
      "茂林區 :2019-06-28T12:00:00+08:00 34\n",
      "桃源區 :2019-06-28T12:00:00+08:00 31\n",
      "那瑪夏區 :2019-06-28T12:00:00+08:00 29\n"
     ]
    }
   ],
   "source": [
    "# 2. 請取出每一個地區所記錄的第一個時間點跟溫度\n",
    "\n",
    "with open('./Data/example/64_72hr_CH.xml', 'r') as rf:\n",
    "    doc = xmltodict.parse(rf.read())\n",
    "\n",
    "locnames = doc['cwbopendata']['dataset']['locations']['location']\n",
    "for i in range(len(locnames)):\n",
    "    loc = locnames[i]\n",
    "    print(loc['locationName'],':', end='')\n",
    "    print(loc['weatherElement'][0]['time'][0]['dataTime'], loc['weatherElement'][0]['time'][0]['elementValue']['value'])"
   ]
  },
  {
   "cell_type": "code",
   "execution_count": 8,
   "metadata": {},
   "outputs": [
    {
     "name": "stdout",
     "output_type": "stream",
     "text": [
      "鹽埕區\n",
      "2019-06-28T12:00:00+08:00 33\n",
      "2019-06-28T15:00:00+08:00 33\n",
      "2019-06-28T18:00:00+08:00 32\n",
      "2019-06-28T21:00:00+08:00 30\n",
      "2019-06-29T00:00:00+08:00 30\n",
      "2019-06-29T03:00:00+08:00 29\n",
      "2019-06-29T06:00:00+08:00 28\n",
      "2019-06-29T09:00:00+08:00 31\n",
      "2019-06-29T12:00:00+08:00 32\n",
      "2019-06-29T15:00:00+08:00 32\n",
      "2019-06-29T18:00:00+08:00 31\n",
      "2019-06-29T21:00:00+08:00 30\n",
      "2019-06-30T00:00:00+08:00 29\n",
      "2019-06-30T03:00:00+08:00 28\n",
      "2019-06-30T06:00:00+08:00 28\n",
      "2019-06-30T09:00:00+08:00 31\n",
      "2019-06-30T12:00:00+08:00 32\n",
      "2019-06-30T15:00:00+08:00 32\n",
      "2019-06-30T18:00:00+08:00 31\n",
      "2019-06-30T21:00:00+08:00 30\n",
      "2019-07-01T00:00:00+08:00 29\n",
      "2019-07-01T03:00:00+08:00 29\n",
      "2019-07-01T06:00:00+08:00 28\n",
      "2019-07-01T09:00:00+08:00 31\n"
     ]
    }
   ],
   "source": [
    "# 3. 請取出第一個地區所記錄的每一個時間點跟溫度\n",
    "\n",
    "with open('./Data/example/64_72hr_CH.xml', 'r') as rf:\n",
    "    doc = xmltodict.parse(rf.read())\n",
    "\n",
    "print(doc['cwbopendata']['dataset']['locations']['location'][0]['locationName'])\n",
    "\n",
    "degrees = doc['cwbopendata']['dataset']['locations']['location'][0]['weatherElement'][0]['time']\n",
    "for degree in degrees:\n",
    "    print(degree['dataTime'], degree['elementValue']['value'])"
   ]
  },
  {
   "cell_type": "code",
   "execution_count": null,
   "metadata": {},
   "outputs": [],
   "source": []
  }
 ],
 "metadata": {
  "kernelspec": {
   "display_name": "Python 3",
   "language": "python",
   "name": "python3"
  },
  "language_info": {
   "codemirror_mode": {
    "name": "ipython",
    "version": 3
   },
   "file_extension": ".py",
   "mimetype": "text/x-python",
   "name": "python",
   "nbconvert_exporter": "python",
   "pygments_lexer": "ipython3",
   "version": "3.7.3"
  },
  "toc": {
   "base_numbering": 1,
   "nav_menu": {},
   "number_sections": true,
   "sideBar": true,
   "skip_h1_title": false,
   "title_cell": "Table of Contents",
   "title_sidebar": "Contents",
   "toc_cell": false,
   "toc_position": {},
   "toc_section_display": true,
   "toc_window_display": false
  }
 },
 "nbformat": 4,
 "nbformat_minor": 2
}
